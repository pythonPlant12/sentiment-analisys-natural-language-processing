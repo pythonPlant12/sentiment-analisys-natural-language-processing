{
 "cells": [
  {
   "cell_type": "markdown",
   "id": "ecdc4756-7d4f-44a3-a538-14c6449c078d",
   "metadata": {
    "tags": []
   },
   "source": [
    "### Load the book"
   ]
  },
  {
   "cell_type": "code",
   "execution_count": 1,
   "id": "38c6b155-6bb8-407b-b13a-2fe8417a9af9",
   "metadata": {},
   "outputs": [],
   "source": [
    "with open(\"miracle_in_the_andes.txt\", \"r\") as file:\n",
    "    book = file.read()"
   ]
  },
  {
   "cell_type": "code",
   "execution_count": 2,
   "id": "b271f529-ec87-428a-adea-09752386a109",
   "metadata": {},
   "outputs": [
    {
     "data": {
      "text/plain": [
       "str"
      ]
     },
     "execution_count": 2,
     "metadata": {},
     "output_type": "execute_result"
    }
   ],
   "source": [
    "type(book)"
   ]
  },
  {
   "cell_type": "markdown",
   "id": "516c7597-b258-44e1-b729-bfdbc1d8d886",
   "metadata": {
    "tags": []
   },
   "source": [
    "#### How many chapters? Difference between String and regex methods"
   ]
  },
  {
   "cell_type": "markdown",
   "id": "732a8255-b20a-45d5-8f2d-b413aad1a476",
   "metadata": {
    "tags": []
   },
   "source": [
    "##### With string methods"
   ]
  },
  {
   "cell_type": "code",
   "execution_count": 3,
   "id": "db1e0708-1aa7-4100-9ebd-b304afaf9534",
   "metadata": {},
   "outputs": [
    {
     "data": {
      "text/plain": [
       "11"
      ]
     },
     "execution_count": 3,
     "metadata": {},
     "output_type": "execute_result"
    }
   ],
   "source": [
    "book.count(\"Chapter\")"
   ]
  },
  {
   "cell_type": "markdown",
   "id": "f85accd5-dd78-474b-bf93-4065101d5f3c",
   "metadata": {
    "tags": []
   },
   "source": [
    "##### With regex"
   ]
  },
  {
   "cell_type": "code",
   "execution_count": 4,
   "id": "b41252ee-73df-4c57-8512-890ab54296d4",
   "metadata": {},
   "outputs": [],
   "source": [
    "import re"
   ]
  },
  {
   "cell_type": "code",
   "execution_count": 5,
   "id": "7b8ac987-111e-4d31-a51b-128031e97e3d",
   "metadata": {},
   "outputs": [
    {
     "data": {
      "text/plain": [
       "10"
      ]
     },
     "execution_count": 5,
     "metadata": {},
     "output_type": "execute_result"
    }
   ],
   "source": [
    "pattern = re.compile(\"Chapter [0-9]+\")\n",
    "findings = re.findall(pattern, book)\n",
    "len(findings)"
   ]
  },
  {
   "cell_type": "markdown",
   "id": "5ae50748-a79d-4bce-8e57-06fdc4a82df2",
   "metadata": {
    "tags": []
   },
   "source": [
    "#### Which are the sentences where \"love\" was used?"
   ]
  },
  {
   "cell_type": "code",
   "execution_count": 43,
   "id": "1e041500-4131-4216-bf2b-84e1bb9ba3f9",
   "metadata": {},
   "outputs": [
    {
     "data": {
      "text/plain": [
       "['passionate love for',\n",
       " 'a love of',\n",
       " 'to love the',\n",
       " 'in love with',\n",
       " 'the love and']"
      ]
     },
     "execution_count": 43,
     "metadata": {},
     "output_type": "execute_result"
    }
   ],
   "source": [
    "patterns = re.compile(\"[a-zA-Z]* love [a-zA-Z]*\")\n",
    "findings = re.findall(patterns, book)\n",
    "findings[:5]"
   ]
  },
  {
   "cell_type": "markdown",
   "id": "0b66fac5-f7d9-4d15-be39-40815e707d7a",
   "metadata": {
    "tags": []
   },
   "source": [
    "#### Getting all chars instead of period \".\"\n",
    "##### To include a period at the end of the sentence we need to add it after \"*\" sign.\n",
    "##### To include not only love after or before spaces (e.g. love,) we should add another pattern inside [a-zA-Z] for both sides\n",
    "##### To take out a space after \".\" and before a beginning char for next sentence  we use: [A-Z]{1}\n",
    "##### {1} - only one time; '*' 0 or more times; '+' 1 or more times\n",
    "##### \"^\" - negation. (Find everything but the e.g. period.\n",
    "##### \"()\" - Round parenthesis means only return what is inside them"
   ]
  },
  {
   "cell_type": "code",
   "execution_count": 37,
   "id": "f817bfea-fc92-4b86-a864-a0292a351568",
   "metadata": {},
   "outputs": [
    {
     "data": {
      "text/plain": [
       "['As a young man, of course, I could not put these things into words, but I knew, and my teammates knew, that there was something special about the game, and under the guidance of the Christian Brothers we developed a passionate love for the sport that shaped our friendships and our lives.',\n",
       " 'Guido and I grew up together, playing soccer and sharing a love of motorcycles, cars, and auto racing.',\n",
       " 'Under the guidance of the Christian Brothers, both of us grew to love the game of rugby with a consuming passion.',\n",
       " 'That rowdiness came to an abrupt end for Guido in 1969, when he met and fell in love with the beautiful daughter of a Chilean diplomat.',\n",
       " 'I believe he had a great hunger for the love and comforts of a family that was happy and whole.']"
      ]
     },
     "execution_count": 37,
     "metadata": {},
     "output_type": "execute_result"
    }
   ],
   "source": [
    "patterns = re.compile(\"[A-Z]{1}[^.]*[^a-zA-Z]+love[^a-zA-Z][^.]*.\")\n",
    "findings = re.findall(patterns, book)\n",
    "findings[:5]"
   ]
  },
  {
   "cell_type": "markdown",
   "id": "bcb3d7c4-dfb9-4ad2-ad0a-5818d8ee414d",
   "metadata": {
    "tags": []
   },
   "source": [
    "#### What are the most used words?"
   ]
  },
  {
   "cell_type": "code",
   "execution_count": 8,
   "id": "3eecaf89-ea52-4e28-9451-e238f6508eef",
   "metadata": {},
   "outputs": [
    {
     "data": {
      "text/plain": [
       "['chapter', 'before', 'it', 'was', 'friday']"
      ]
     },
     "execution_count": 8,
     "metadata": {},
     "output_type": "execute_result"
    }
   ],
   "source": [
    "pattern = re.compile(\"[a-zA-Z]+\")\n",
    "findings = re.findall(pattern, book.lower())\n",
    "findings[:5]"
   ]
  },
  {
   "cell_type": "code",
   "execution_count": 9,
   "id": "ebdee1f3-2c24-49b6-a538-e260d52e3264",
   "metadata": {},
   "outputs": [],
   "source": [
    "d = {}\n",
    "for word in findings:\n",
    "    if word in d.keys():\n",
    "        d[word] = d[word] + 1\n",
    "    else:\n",
    "        d[word] = 1"
   ]
  },
  {
   "cell_type": "markdown",
   "id": "520dabda-37f2-4bc2-baf3-fd4a91ed113c",
   "metadata": {
    "tags": []
   },
   "source": [
    "#### To show dictionary first we change places keys, values to values, keys using list comprehension, then we sort it in reverse"
   ]
  },
  {
   "cell_type": "code",
   "execution_count": 42,
   "id": "2c9a72bc-422a-4784-9246-f36e0386904d",
   "metadata": {},
   "outputs": [
    {
     "data": {
      "text/plain": [
       "[(5346, 'the'),\n",
       " (2060, 'of'),\n",
       " (1430, 'was'),\n",
       " (1226, 'we'),\n",
       " (800, 'it'),\n",
       " (93, 'before'),\n",
       " (11, 'chapter'),\n",
       " (8, 'october'),\n",
       " (1, 'thirteenth'),\n",
       " (1, 'friday')]"
      ]
     },
     "execution_count": 42,
     "metadata": {},
     "output_type": "execute_result"
    }
   ],
   "source": [
    "d_list = [(keys, values) for (values, keys) in d.items()]\n",
    "\n",
    "sorted(d_list[:10], reverse=True)"
   ]
  },
  {
   "cell_type": "markdown",
   "id": "e4c24a96-3295-4323-8419-4ab79a47c5c4",
   "metadata": {
    "tags": []
   },
   "source": [
    "#### Extract the paragraphs where \"love\" was used"
   ]
  },
  {
   "cell_type": "code",
   "execution_count": 11,
   "id": "4b97e395-aa60-4025-9705-4a7002b25aee",
   "metadata": {},
   "outputs": [
    {
     "data": {
      "text/plain": [
       "60"
      ]
     },
     "execution_count": 11,
     "metadata": {},
     "output_type": "execute_result"
    }
   ],
   "source": [
    "pattern = re.compile(\"[^\\n]+love[^\\n]+\")\n",
    "findings = re.findall(pattern, book)\n",
    "len(findings)"
   ]
  },
  {
   "cell_type": "markdown",
   "id": "17f6742d-6aa1-41c0-a2b7-ba854926a5c1",
   "metadata": {
    "tags": []
   },
   "source": [
    "#### Extract the chapter title"
   ]
  },
  {
   "cell_type": "code",
   "execution_count": 12,
   "id": "12ebdfa9-1828-4e4f-ad9f-e7d428cc7f8e",
   "metadata": {},
   "outputs": [
    {
     "data": {
      "text/plain": [
       "['Before',\n",
       " 'Everything Precious',\n",
       " 'A Promise',\n",
       " 'Breathe Once More',\n",
       " 'Abandoned',\n",
       " 'Tomb',\n",
       " 'East',\n",
       " 'The Opposite of Death',\n",
       " 'I See a Man',\n",
       " 'After']"
      ]
     },
     "execution_count": 12,
     "metadata": {},
     "output_type": "execute_result"
    }
   ],
   "source": [
    "pattern = re.compile(\"[a-zA-Z ,]+[\\n\\n]\")\n",
    "findings = re.findall(pattern, book)\n",
    "findings = [item.strip(\"\\n\") for item in findings]\n",
    "findings"
   ]
  },
  {
   "cell_type": "markdown",
   "id": "963be6f0-9b53-46d5-9481-681320649bdc",
   "metadata": {
    "tags": []
   },
   "source": [
    "#### Function that finds the occurrence of any word"
   ]
  },
  {
   "cell_type": "code",
   "execution_count": 35,
   "id": "6bb1a5d3-8389-4c6c-8f9d-b6f2f6904caa",
   "metadata": {},
   "outputs": [],
   "source": [
    "def find(w):\n",
    "    pattern = re.compile(\"[a-zA-Z]+\")\n",
    "    findings = re.findall(pattern, book.lower())\n",
    "    d = {}\n",
    "    for word in findings:\n",
    "        if word in d.keys():\n",
    "            d[word] = d[word] + 1\n",
    "        else:\n",
    "            d[word] = 1\n",
    "    try:\n",
    "        return d[w]\n",
    "    except:\n",
    "        return f\"There is not such a word: '{w}' in this book.\"\n",
    "    "
   ]
  },
  {
   "cell_type": "code",
   "execution_count": 36,
   "id": "2694e403-507b-4c5d-a361-5b7708a56158",
   "metadata": {},
   "outputs": [
    {
     "data": {
      "text/plain": [
       "83"
      ]
     },
     "execution_count": 36,
     "metadata": {},
     "output_type": "execute_result"
    }
   ],
   "source": [
    "find(\"love\")"
   ]
  },
  {
   "cell_type": "code",
   "execution_count": 45,
   "id": "db2bcc3d-715c-4ec5-b7ca-a0bda13ea6a9",
   "metadata": {},
   "outputs": [
    {
     "ename": "ModuleNotFoundError",
     "evalue": "No module named 'xelatex'",
     "output_type": "error",
     "traceback": [
      "\u001b[0;31m---------------------------------------------------------------------------\u001b[0m",
      "\u001b[0;31mModuleNotFoundError\u001b[0m                       Traceback (most recent call last)",
      "Cell \u001b[0;32mIn[45], line 1\u001b[0m\n\u001b[0;32m----> 1\u001b[0m \u001b[38;5;28;01mimport\u001b[39;00m \u001b[38;5;21;01mxelatex\u001b[39;00m \u001b[38;5;28;01mas\u001b[39;00m \u001b[38;5;21;01mxel\u001b[39;00m\n",
      "\u001b[0;31mModuleNotFoundError\u001b[0m: No module named 'xelatex'"
     ]
    }
   ],
   "source": []
  }
 ],
 "metadata": {
  "kernelspec": {
   "display_name": "Python 3 (ipykernel)",
   "language": "python",
   "name": "python3"
  },
  "language_info": {
   "codemirror_mode": {
    "name": "ipython",
    "version": 3
   },
   "file_extension": ".py",
   "mimetype": "text/x-python",
   "name": "python",
   "nbconvert_exporter": "python",
   "pygments_lexer": "ipython3",
   "version": "3.10.9"
  },
  "toc-autonumbering": false,
  "toc-showcode": true,
  "toc-showmarkdowntxt": true
 },
 "nbformat": 4,
 "nbformat_minor": 5
}
